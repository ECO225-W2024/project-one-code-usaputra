{
 "cells": [
  {
   "cell_type": "markdown",
   "id": "25515e6c",
   "metadata": {},
   "source": [
    "# Title"
   ]
  },
  {
   "cell_type": "markdown",
   "id": "ffc960f1",
   "metadata": {},
   "source": [
    "## Introduction"
   ]
  },
  {
   "cell_type": "markdown",
   "id": "7e30ec76",
   "metadata": {},
   "source": [
    "*some description about the data and the projects*"
   ]
  },
  {
   "cell_type": "code",
   "execution_count": 24,
   "id": "a8a7b7c6",
   "metadata": {},
   "outputs": [],
   "source": [
    "# Import Packages\n",
    "import pandas as pd\n",
    "import numpy as np"
   ]
  },
  {
   "cell_type": "markdown",
   "id": "7a4a4a77",
   "metadata": {},
   "source": [
    "## Data Cleaning/Loading"
   ]
  },
  {
   "cell_type": "markdown",
   "id": "af712b5b",
   "metadata": {},
   "source": [
    "### Dataset Loading"
   ]
  },
  {
   "cell_type": "code",
   "execution_count": 25,
   "id": "b87462c8",
   "metadata": {
    "scrolled": false
   },
   "outputs": [
    {
     "name": "stderr",
     "output_type": "stream",
     "text": [
      "C:\\Users\\Yusuf Saputra\\AppData\\Local\\Temp\\ipykernel_8724\\2591217029.py:3: DtypeWarning: Columns (3,7,9,10,17,18,21,22,23,25,26,29,30,37) have mixed types. Specify dtype option on import or set low_memory=False.\n",
      "  df_objects = pd.read_csv(objects)\n"
     ]
    }
   ],
   "source": [
    "# Load Dataset\n",
    "objects = r\"C:\\Users\\Yusuf Saputra\\OneDrive - University of Toronto\\Documents\\UofT\\Winter 2024\\ECO225\\ECO225 Project\\Data\\startup\\objects.csv\"\n",
    "df_objects = pd.read_csv(objects)"
   ]
  },
  {
   "cell_type": "code",
   "execution_count": 27,
   "id": "03afe3f1",
   "metadata": {},
   "outputs": [
    {
     "data": {
      "text/plain": [
       "(462651, 40)"
      ]
     },
     "execution_count": 27,
     "metadata": {},
     "output_type": "execute_result"
    }
   ],
   "source": [
    "# Quick check on the composition of the dataset\n",
    "\n",
    "df_objects.shape"
   ]
  },
  {
   "cell_type": "markdown",
   "id": "a9767ec7",
   "metadata": {},
   "source": [
    "This tells us that the dataset that we choose contains 462,651 rows x 40 columns."
   ]
  },
  {
   "cell_type": "code",
   "execution_count": 28,
   "id": "1c6e4c4c",
   "metadata": {},
   "outputs": [
    {
     "data": {
      "text/html": [
       "<div>\n",
       "<style scoped>\n",
       "    .dataframe tbody tr th:only-of-type {\n",
       "        vertical-align: middle;\n",
       "    }\n",
       "\n",
       "    .dataframe tbody tr th {\n",
       "        vertical-align: top;\n",
       "    }\n",
       "\n",
       "    .dataframe thead th {\n",
       "        text-align: right;\n",
       "    }\n",
       "</style>\n",
       "<table border=\"1\" class=\"dataframe\">\n",
       "  <thead>\n",
       "    <tr style=\"text-align: right;\">\n",
       "      <th></th>\n",
       "      <th>id</th>\n",
       "      <th>entity_type</th>\n",
       "      <th>entity_id</th>\n",
       "      <th>parent_id</th>\n",
       "      <th>name</th>\n",
       "      <th>normalized_name</th>\n",
       "      <th>permalink</th>\n",
       "      <th>category_code</th>\n",
       "      <th>status</th>\n",
       "      <th>founded_at</th>\n",
       "      <th>...</th>\n",
       "      <th>last_funding_at</th>\n",
       "      <th>funding_rounds</th>\n",
       "      <th>funding_total_usd</th>\n",
       "      <th>first_milestone_at</th>\n",
       "      <th>last_milestone_at</th>\n",
       "      <th>milestones</th>\n",
       "      <th>relationships</th>\n",
       "      <th>created_by</th>\n",
       "      <th>created_at</th>\n",
       "      <th>updated_at</th>\n",
       "    </tr>\n",
       "  </thead>\n",
       "  <tbody>\n",
       "    <tr>\n",
       "      <th>0</th>\n",
       "      <td>c:1</td>\n",
       "      <td>Company</td>\n",
       "      <td>1</td>\n",
       "      <td>NaN</td>\n",
       "      <td>Wetpaint</td>\n",
       "      <td>wetpaint</td>\n",
       "      <td>/company/wetpaint</td>\n",
       "      <td>web</td>\n",
       "      <td>operating</td>\n",
       "      <td>2005-10-17</td>\n",
       "      <td>...</td>\n",
       "      <td>2008-05-19</td>\n",
       "      <td>3</td>\n",
       "      <td>39750000.0</td>\n",
       "      <td>2010-09-05</td>\n",
       "      <td>2013-09-18</td>\n",
       "      <td>5</td>\n",
       "      <td>17</td>\n",
       "      <td>initial-importer</td>\n",
       "      <td>2007-05-25 06:51:27</td>\n",
       "      <td>2013-04-13 03:29:00</td>\n",
       "    </tr>\n",
       "    <tr>\n",
       "      <th>1</th>\n",
       "      <td>c:10</td>\n",
       "      <td>Company</td>\n",
       "      <td>10</td>\n",
       "      <td>NaN</td>\n",
       "      <td>Flektor</td>\n",
       "      <td>flektor</td>\n",
       "      <td>/company/flektor</td>\n",
       "      <td>games_video</td>\n",
       "      <td>acquired</td>\n",
       "      <td>NaN</td>\n",
       "      <td>...</td>\n",
       "      <td>NaN</td>\n",
       "      <td>0</td>\n",
       "      <td>0.0</td>\n",
       "      <td>NaN</td>\n",
       "      <td>NaN</td>\n",
       "      <td>0</td>\n",
       "      <td>6</td>\n",
       "      <td>initial-importer</td>\n",
       "      <td>2007-05-31 21:11:51</td>\n",
       "      <td>2008-05-23 23:23:14</td>\n",
       "    </tr>\n",
       "    <tr>\n",
       "      <th>2</th>\n",
       "      <td>c:100</td>\n",
       "      <td>Company</td>\n",
       "      <td>100</td>\n",
       "      <td>NaN</td>\n",
       "      <td>There</td>\n",
       "      <td>there</td>\n",
       "      <td>/company/there</td>\n",
       "      <td>games_video</td>\n",
       "      <td>acquired</td>\n",
       "      <td>NaN</td>\n",
       "      <td>...</td>\n",
       "      <td>NaN</td>\n",
       "      <td>0</td>\n",
       "      <td>0.0</td>\n",
       "      <td>2003-02-01</td>\n",
       "      <td>2011-09-23</td>\n",
       "      <td>4</td>\n",
       "      <td>12</td>\n",
       "      <td>initial-importer</td>\n",
       "      <td>2007-08-06 23:52:45</td>\n",
       "      <td>2013-11-04 02:09:48</td>\n",
       "    </tr>\n",
       "    <tr>\n",
       "      <th>3</th>\n",
       "      <td>c:10000</td>\n",
       "      <td>Company</td>\n",
       "      <td>10000</td>\n",
       "      <td>NaN</td>\n",
       "      <td>MYWEBBO</td>\n",
       "      <td>mywebbo</td>\n",
       "      <td>/company/mywebbo</td>\n",
       "      <td>network_hosting</td>\n",
       "      <td>operating</td>\n",
       "      <td>2008-07-26</td>\n",
       "      <td>...</td>\n",
       "      <td>NaN</td>\n",
       "      <td>0</td>\n",
       "      <td>0.0</td>\n",
       "      <td>NaN</td>\n",
       "      <td>NaN</td>\n",
       "      <td>0</td>\n",
       "      <td>0</td>\n",
       "      <td>NaN</td>\n",
       "      <td>2008-08-24 16:51:57</td>\n",
       "      <td>2008-09-06 14:19:18</td>\n",
       "    </tr>\n",
       "    <tr>\n",
       "      <th>4</th>\n",
       "      <td>c:10001</td>\n",
       "      <td>Company</td>\n",
       "      <td>10001</td>\n",
       "      <td>NaN</td>\n",
       "      <td>THE Movie Streamer</td>\n",
       "      <td>the movie streamer</td>\n",
       "      <td>/company/the-movie-streamer</td>\n",
       "      <td>games_video</td>\n",
       "      <td>operating</td>\n",
       "      <td>2008-07-26</td>\n",
       "      <td>...</td>\n",
       "      <td>NaN</td>\n",
       "      <td>0</td>\n",
       "      <td>0.0</td>\n",
       "      <td>NaN</td>\n",
       "      <td>NaN</td>\n",
       "      <td>0</td>\n",
       "      <td>0</td>\n",
       "      <td>NaN</td>\n",
       "      <td>2008-08-24 17:10:34</td>\n",
       "      <td>2008-09-06 14:19:18</td>\n",
       "    </tr>\n",
       "  </tbody>\n",
       "</table>\n",
       "<p>5 rows × 40 columns</p>\n",
       "</div>"
      ],
      "text/plain": [
       "        id entity_type  entity_id parent_id                name  \\\n",
       "0      c:1     Company          1       NaN            Wetpaint   \n",
       "1     c:10     Company         10       NaN             Flektor   \n",
       "2    c:100     Company        100       NaN               There   \n",
       "3  c:10000     Company      10000       NaN             MYWEBBO   \n",
       "4  c:10001     Company      10001       NaN  THE Movie Streamer   \n",
       "\n",
       "      normalized_name                    permalink    category_code  \\\n",
       "0            wetpaint            /company/wetpaint              web   \n",
       "1             flektor             /company/flektor      games_video   \n",
       "2               there               /company/there      games_video   \n",
       "3             mywebbo             /company/mywebbo  network_hosting   \n",
       "4  the movie streamer  /company/the-movie-streamer      games_video   \n",
       "\n",
       "      status  founded_at  ... last_funding_at funding_rounds  \\\n",
       "0  operating  2005-10-17  ...      2008-05-19              3   \n",
       "1   acquired         NaN  ...             NaN              0   \n",
       "2   acquired         NaN  ...             NaN              0   \n",
       "3  operating  2008-07-26  ...             NaN              0   \n",
       "4  operating  2008-07-26  ...             NaN              0   \n",
       "\n",
       "  funding_total_usd first_milestone_at last_milestone_at  milestones  \\\n",
       "0        39750000.0         2010-09-05        2013-09-18           5   \n",
       "1               0.0                NaN               NaN           0   \n",
       "2               0.0         2003-02-01        2011-09-23           4   \n",
       "3               0.0                NaN               NaN           0   \n",
       "4               0.0                NaN               NaN           0   \n",
       "\n",
       "   relationships        created_by           created_at           updated_at  \n",
       "0             17  initial-importer  2007-05-25 06:51:27  2013-04-13 03:29:00  \n",
       "1              6  initial-importer  2007-05-31 21:11:51  2008-05-23 23:23:14  \n",
       "2             12  initial-importer  2007-08-06 23:52:45  2013-11-04 02:09:48  \n",
       "3              0               NaN  2008-08-24 16:51:57  2008-09-06 14:19:18  \n",
       "4              0               NaN  2008-08-24 17:10:34  2008-09-06 14:19:18  \n",
       "\n",
       "[5 rows x 40 columns]"
      ]
     },
     "execution_count": 28,
     "metadata": {},
     "output_type": "execute_result"
    }
   ],
   "source": [
    "# Taking snapshot of the dataset\n",
    "df_objects.head()"
   ]
  },
  {
   "cell_type": "markdown",
   "id": "fa578a52",
   "metadata": {},
   "source": [
    "*some description about the table (i.e., Missing Values, Types of Values)*"
   ]
  },
  {
   "cell_type": "markdown",
   "id": "f17c1ca9",
   "metadata": {},
   "source": [
    "### Data Cleaning"
   ]
  },
  {
   "cell_type": "markdown",
   "id": "bfbefb1b",
   "metadata": {},
   "source": [
    "*some explanation on how we clean (i.e., because of the missing value)*"
   ]
  },
  {
   "cell_type": "code",
   "execution_count": 29,
   "id": "807253cb",
   "metadata": {},
   "outputs": [
    {
     "data": {
      "text/plain": [
       "id                          0\n",
       "entity_type                 0\n",
       "entity_id                   0\n",
       "parent_id              434936\n",
       "name                        4\n",
       "normalized_name            31\n",
       "permalink                   0\n",
       "category_code          339465\n",
       "status                      0\n",
       "founded_at             362210\n",
       "closed_at              459842\n",
       "domain                 287709\n",
       "homepage_url           287709\n",
       "twitter_username       336562\n",
       "logo_url               253801\n",
       "logo_width                  0\n",
       "logo_height                 0\n",
       "short_description      455034\n",
       "description            367646\n",
       "overview               227416\n",
       "tag_list               356155\n",
       "country_code           367608\n",
       "state_code             407891\n",
       "city                   371967\n",
       "region                      0\n",
       "first_investment_at    445695\n",
       "last_investment_at     445695\n",
       "investment_rounds           0\n",
       "invested_companies          0\n",
       "first_funding_at       431144\n",
       "last_funding_at        431144\n",
       "funding_rounds              0\n",
       "funding_total_usd           0\n",
       "first_milestone_at     362293\n",
       "last_milestone_at      362293\n",
       "milestones                  0\n",
       "relationships               0\n",
       "created_by             123165\n",
       "created_at                 60\n",
       "updated_at                  0\n",
       "dtype: int64"
      ]
     },
     "execution_count": 29,
     "metadata": {},
     "output_type": "execute_result"
    }
   ],
   "source": [
    "# Find Missing Value\n",
    "df_objects.isna().sum()"
   ]
  },
  {
   "cell_type": "markdown",
   "id": "ccc5841e",
   "metadata": {},
   "source": [
    "*description*"
   ]
  },
  {
   "cell_type": "code",
   "execution_count": 34,
   "id": "46b70c55",
   "metadata": {},
   "outputs": [
    {
     "data": {
      "text/plain": [
       "id                        0\n",
       "entity_type               0\n",
       "entity_id                 0\n",
       "parent_id              1661\n",
       "name                      0\n",
       "normalized_name           0\n",
       "permalink                 0\n",
       "category_code             0\n",
       "status                    0\n",
       "founded_at                0\n",
       "closed_at                 0\n",
       "domain                   18\n",
       "homepage_url             18\n",
       "twitter_username        831\n",
       "logo_url                129\n",
       "logo_width                0\n",
       "logo_height               0\n",
       "short_description      1206\n",
       "description             453\n",
       "overview                 15\n",
       "tag_list                568\n",
       "country_code              0\n",
       "state_code              605\n",
       "city                     78\n",
       "region                    0\n",
       "first_investment_at    1655\n",
       "last_investment_at     1655\n",
       "investment_rounds         0\n",
       "invested_companies        0\n",
       "first_funding_at        312\n",
       "last_funding_at         312\n",
       "funding_rounds            0\n",
       "funding_total_usd         0\n",
       "first_milestone_at      702\n",
       "last_milestone_at       702\n",
       "milestones                0\n",
       "relationships             0\n",
       "created_by              609\n",
       "created_at                0\n",
       "updated_at                0\n",
       "dtype: int64"
      ]
     },
     "execution_count": 34,
     "metadata": {},
     "output_type": "execute_result"
    }
   ],
   "source": [
    "# Drop the rows that have missing values in some particular columns\n",
    "df_clean = df_objects[~(\n",
    "    df_objects['category_code'].isnull() |\n",
    "    df_objects['country_code'].isnull() | \n",
    "    df_objects['founded_at'].isnull() |\n",
    "    df_objects['closed_at'].isnull()\n",
    "    \n",
    ")]\n",
    "\n",
    "# Check\n",
    "df_clean.isna().sum()"
   ]
  },
  {
   "cell_type": "markdown",
   "id": "24860a5d",
   "metadata": {},
   "source": [
    "*description*"
   ]
  },
  {
   "cell_type": "markdown",
   "id": "c2ddd18a",
   "metadata": {},
   "source": [
    "### Summary Statistics"
   ]
  },
  {
   "cell_type": "code",
   "execution_count": 35,
   "id": "6f969e96",
   "metadata": {},
   "outputs": [
    {
     "data": {
      "text/plain": [
       "count    4.626510e+05\n",
       "mean     8.926722e+05\n",
       "std      1.700120e+07\n",
       "min      0.000000e+00\n",
       "25%      0.000000e+00\n",
       "50%      0.000000e+00\n",
       "75%      0.000000e+00\n",
       "max      5.700000e+09\n",
       "Name: funding_total_usd, dtype: float64"
      ]
     },
     "execution_count": 35,
     "metadata": {},
     "output_type": "execute_result"
    }
   ],
   "source": [
    "df_objects['funding_total_usd'].describe()"
   ]
  },
  {
   "cell_type": "markdown",
   "id": "ff06473e",
   "metadata": {},
   "source": [
    "*description*"
   ]
  }
 ],
 "metadata": {
  "kernelspec": {
   "display_name": "Python 3 (ipykernel)",
   "language": "python",
   "name": "python3"
  },
  "language_info": {
   "codemirror_mode": {
    "name": "ipython",
    "version": 3
   },
   "file_extension": ".py",
   "mimetype": "text/x-python",
   "name": "python",
   "nbconvert_exporter": "python",
   "pygments_lexer": "ipython3",
   "version": "3.11.5"
  }
 },
 "nbformat": 4,
 "nbformat_minor": 5
}
